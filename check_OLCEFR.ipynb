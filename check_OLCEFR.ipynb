{
 "cells": [
  {
   "cell_type": "markdown",
   "metadata": {},
   "source": [
    "# Tutorial on manipulating OLCI L1 EFR product"
   ]
  },
  {
   "cell_type": "code",
   "execution_count": null,
   "metadata": {},
   "outputs": [],
   "source": [
    "from pathlib import Path\n",
    "import xarray as xr\n",
    "from eopf import EOProduct\n",
    "from eopf.common.constants import OpeningMode"
   ]
  },
  {
   "cell_type": "code",
   "execution_count": null,
   "metadata": {},
   "outputs": [],
   "source": [
    "SAMPLE_PATH = Path(\"/mount/internal/work-st/projects/cs-412/2078-dpr/Samples/Products/Zarr_Beta\")\n",
    "files = [ f for f in SAMPLE_PATH.glob(\"S3OLCEFR*.zarr\")]\n",
    "product = files[0]\n",
    "product"
   ]
  },
  {
   "cell_type": "markdown",
   "metadata": {},
   "source": [
    "### Open the product using EOPF API and visualize the tree structure\n",
    "Note: there are still warning messages due to problems of dependencies in the CPM package"
   ]
  },
  {
   "cell_type": "code",
   "execution_count": null,
   "metadata": {},
   "outputs": [],
   "source": [
    "prod=EOProduct(\"prod\",url=str(product)).open(mode=OpeningMode.OPEN)\n",
    "prod\n"
   ]
  },
  {
   "cell_type": "markdown",
   "metadata": {},
   "source": [
    "Plotting data fails with version 1.5.1"
   ]
  },
  {
   "cell_type": "code",
   "execution_count": null,
   "metadata": {},
   "outputs": [],
   "source": [
    "prod.measurements.image.oa01_radiance.plot()"
   ]
  },
  {
   "cell_type": "markdown",
   "metadata": {},
   "source": [
    "### Opening gridded measurement data data with xarray"
   ]
  },
  {
   "cell_type": "code",
   "execution_count": null,
   "metadata": {},
   "outputs": [],
   "source": [
    "group = \"measurements/image\"\n",
    "# Open with xarray zarr engine\n",
    "ds=xr.open_dataset(SAMPLE_PATH / product / group, engine=\"zarr\",chunks={})\n",
    "# Open with custom engine=\"eop\"\n",
    "ds=xr.open_dataset(SAMPLE_PATH / product, group=group, engine=\"eop\")\n",
    "rad = ds.oa01_radiance\n",
    "rad"
   ]
  },
  {
   "cell_type": "markdown",
   "metadata": {},
   "source": [
    "Underlying data is dask.array"
   ]
  },
  {
   "cell_type": "code",
   "execution_count": null,
   "metadata": {},
   "outputs": [],
   "source": [
    "rad.data"
   ]
  },
  {
   "cell_type": "markdown",
   "metadata": {},
   "source": [
    "#### Simple raster plot\n",
    "Note that using xarray, data is correctly decoded and masked"
   ]
  },
  {
   "cell_type": "code",
   "execution_count": null,
   "metadata": {},
   "outputs": [],
   "source": [
    "rad.plot()"
   ]
  },
  {
   "cell_type": "markdown",
   "metadata": {},
   "source": [
    "#### Plot using the coordinates (lon,lat)"
   ]
  },
  {
   "cell_type": "code",
   "execution_count": null,
   "metadata": {},
   "outputs": [],
   "source": [
    "import matplotlib.pyplot as plt\n",
    "plt.figure(figsize=(14, 6))\n",
    "ax = plt.axes()\n",
    "ds.oa01_radiance.plot.pcolormesh(\n",
    "    ax=ax,\n",
    "    x=\"longitude\", y=\"latitude\", add_colorbar=False\n",
    ")"
   ]
  },
  {
   "cell_type": "markdown",
   "metadata": {},
   "source": [
    "#### Open Meteorological conditions"
   ]
  },
  {
   "cell_type": "code",
   "execution_count": null,
   "metadata": {},
   "outputs": [],
   "source": [
    "group = \"conditions/meteo\"\n",
    "ds=xr.open_dataset(SAMPLE_PATH / product / group, engine=\"zarr\")\n",
    "ds"
   ]
  },
  {
   "cell_type": "markdown",
   "metadata": {},
   "source": [
    "#### Interpolate the atmo. temp. profile at p=832.2 hPa and plot"
   ]
  },
  {
   "cell_type": "code",
   "execution_count": null,
   "metadata": {},
   "outputs": [],
   "source": [
    "tp=ds[\"atmospheric_temperature_profile\"].interp(tie_pressure_levels=832.2)\n",
    "tp.plot()"
   ]
  },
  {
   "cell_type": "markdown",
   "metadata": {},
   "source": [
    "#### Open sat/sun angles\n",
    "Angles are stored on a tiepoint subgrid"
   ]
  },
  {
   "cell_type": "code",
   "execution_count": null,
   "metadata": {},
   "outputs": [],
   "source": [
    "group = \"conditions/geometry\"\n",
    "ds=xr.open_dataset(SAMPLE_PATH / product / group, engine=\"zarr\",chunks={})\n",
    "ds"
   ]
  },
  {
   "cell_type": "markdown",
   "metadata": {},
   "source": [
    "#### Have a look at condition parameters for removed pixels"
   ]
  },
  {
   "cell_type": "code",
   "execution_count": null,
   "metadata": {},
   "outputs": [],
   "source": [
    "group=\"conditions/orphans\"\n",
    "ds=xr.open_dataset(SAMPLE_PATH / product / group, engine=\"zarr\",chunks={})\n",
    "ds"
   ]
  }
 ],
 "metadata": {
  "kernelspec": {
   "display_name": "dpr-1.5.1",
   "language": "python",
   "name": "python3"
  },
  "language_info": {
   "codemirror_mode": {
    "name": "ipython",
    "version": 3
   },
   "file_extension": ".py",
   "mimetype": "text/x-python",
   "name": "python",
   "nbconvert_exporter": "python",
   "pygments_lexer": "ipython3",
   "version": "3.11.7"
  }
 },
 "nbformat": 4,
 "nbformat_minor": 2
}
