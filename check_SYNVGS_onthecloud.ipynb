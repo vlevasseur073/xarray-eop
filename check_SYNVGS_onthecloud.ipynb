{
 "cells": [
  {
   "cell_type": "markdown",
   "metadata": {},
   "source": [
    "# Tutorial on manipulating SYN L2 VGS composite products from the cloud"
   ]
  },
  {
   "cell_type": "code",
   "execution_count": null,
   "metadata": {},
   "outputs": [],
   "source": [
    "import xarray as xr\n",
    "from pathlib import Path\n",
    "from xarray_eop.eop import open_eop_datatree"
   ]
  },
  {
   "cell_type": "markdown",
   "metadata": {},
   "source": [
    "### Get AWS credentials"
   ]
  },
  {
   "cell_type": "code",
   "execution_count": null,
   "metadata": {},
   "outputs": [],
   "source": [
    "import s3fs\n",
    "import json\n",
    "# Assuming credentials are in ~/.eopf/secrets.json\n",
    "try:\n",
    "    SECRET_PATH = Path.home() / Path(\".eopf/secrets.json\")\n",
    "    with open(SECRET_PATH) as f:\n",
    "        secrets=json.load(f)\n",
    "\n",
    "# Or use ENV variables\n",
    "except:\n",
    "    import os\n",
    "    secrets = {\"s3input\" : {\n",
    "        \"key\": os.getenv(\"AWS_ACCESS_KEY_ID\"),\n",
    "        \"secret\": os.getenv(\"AWS_SECRET_ACCES_KEY\"),\n",
    "        \"endpoint_url\": os.getenv(\"AWS_ENDPOINT_URL\"),\n",
    "        \"region_name\": os.getenv(\"AWS_DEFAULT_REGION\")\n",
    "        }\n",
    "    }\n",
    "\n",
    "secrets[\"s3input\"].pop(\"region_name\",None)\n",
    "\n"
   ]
  },
  {
   "cell_type": "markdown",
   "metadata": {},
   "source": [
    "### Browse S3 buckets and get SYNAOD product"
   ]
  },
  {
   "cell_type": "code",
   "execution_count": null,
   "metadata": {},
   "outputs": [],
   "source": [
    "import s3fs\n",
    "SAMPLE_PATH = \"s3://s3-input/Products/NewFormat/\"\n",
    "s3 = s3fs.S3FileSystem(\n",
    "    key=secrets[\"s3input\"][\"key\"],\n",
    "    secret=secrets[\"s3input\"][\"secret\"],\n",
    "    endpoint_url=secrets[\"s3input\"][\"endpoint_url\"]\n",
    ")\n",
    "s3_path = s3.glob(SAMPLE_PATH+\"S3SYNV10*.zip\")\n",
    "store=f\"zip::s3://{s3_path[0]}\"\n",
    "store"
   ]
  },
  {
   "cell_type": "markdown",
   "metadata": {},
   "source": [
    "### Open the whole product with datatree"
   ]
  },
  {
   "cell_type": "code",
   "execution_count": null,
   "metadata": {},
   "outputs": [],
   "source": [
    "dt = open_eop_datatree(store,decode_times=False,backend_kwargs={\"storage_options\": {\"s3\":secrets[\"s3input\"]}})\n",
    "dt"
   ]
  },
  {
   "cell_type": "markdown",
   "metadata": {},
   "source": [
    "### Opening gridded measurement data with xarray"
   ]
  },
  {
   "cell_type": "code",
   "execution_count": null,
   "metadata": {},
   "outputs": [],
   "source": [
    "ds=dt.measurements\n",
    "b0 = ds.b0\n",
    "b0"
   ]
  },
  {
   "cell_type": "markdown",
   "metadata": {},
   "source": [
    "Underlying data is dask.array"
   ]
  },
  {
   "cell_type": "code",
   "execution_count": null,
   "metadata": {},
   "outputs": [],
   "source": [
    "b0.data"
   ]
  },
  {
   "cell_type": "markdown",
   "metadata": {},
   "source": [
    "#### Simple raster plot"
   ]
  },
  {
   "cell_type": "code",
   "execution_count": null,
   "metadata": {},
   "outputs": [],
   "source": [
    "b0.plot()"
   ]
  },
  {
   "cell_type": "markdown",
   "metadata": {},
   "source": [
    "#### Plot using the coordinates (lon,lat)"
   ]
  },
  {
   "cell_type": "code",
   "execution_count": null,
   "metadata": {},
   "outputs": [],
   "source": [
    "import matplotlib.pyplot as plt\n",
    "\n",
    "b0=b0.dropna(\"latitude\",how=\"all\")\n",
    "b0=b0.dropna(\"longitude\",how=\"all\")\n",
    "plt.figure(figsize=(14, 6))\n",
    "ax = plt.axes()\n",
    "b0.plot.pcolormesh(\n",
    "    ax=ax,\n",
    "    x=\"longitude\", y=\"latitude\", add_colorbar=False\n",
    ")"
   ]
  },
  {
   "cell_type": "markdown",
   "metadata": {},
   "source": [
    "#### Open auxiliary data"
   ]
  },
  {
   "cell_type": "code",
   "execution_count": null,
   "metadata": {},
   "outputs": [],
   "source": [
    "ds=dt.conditions.auxiliary"
   ]
  },
  {
   "cell_type": "code",
   "execution_count": null,
   "metadata": {},
   "outputs": [],
   "source": [
    "var = ds.ag\n",
    "var=var.dropna(\"latitude\",how=\"all\")\n",
    "var=var.dropna(\"longitude\",how=\"all\")\n",
    "plt.figure(figsize=(14, 6))\n",
    "ax = plt.axes()\n",
    "var.plot.pcolormesh(\n",
    "    ax=ax,\n",
    "    x=\"longitude\", y=\"latitude\", add_colorbar=False\n",
    ")"
   ]
  }
 ],
 "metadata": {
  "kernelspec": {
   "display_name": "dpr-1.5.1",
   "language": "python",
   "name": "python3"
  },
  "language_info": {
   "codemirror_mode": {
    "name": "ipython",
    "version": 3
   },
   "file_extension": ".py",
   "mimetype": "text/x-python",
   "name": "python",
   "nbconvert_exporter": "python",
   "pygments_lexer": "ipython3",
   "version": "3.11.7"
  }
 },
 "nbformat": 4,
 "nbformat_minor": 2
}
