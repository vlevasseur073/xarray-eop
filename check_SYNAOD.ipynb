{
 "cells": [
  {
   "cell_type": "markdown",
   "metadata": {},
   "source": [
    "# Tutorial on manipulating SYN L2 AOD product"
   ]
  },
  {
   "cell_type": "code",
   "execution_count": null,
   "metadata": {},
   "outputs": [],
   "source": [
    "from pathlib import Path\n",
    "import xarray as xr\n",
    "from xarray_eop.eop import open_eop_datatree"
   ]
  },
  {
   "cell_type": "code",
   "execution_count": null,
   "metadata": {},
   "outputs": [],
   "source": [
    "SAMPLE_PATH = Path(\"/mount/internal/work-st/projects/cs-412/2078-dpr/Samples/Products/Zarr_Beta\")\n",
    "SAMPLE_PATH = Path(\"./\")\n",
    "files = [ f for f in SAMPLE_PATH.glob(\"S3SYNAOD*.zarr\")]\n",
    "product = files[0]\n",
    "product"
   ]
  },
  {
   "cell_type": "markdown",
   "metadata": {},
   "source": [
    "### Open the whole product with datatree"
   ]
  },
  {
   "cell_type": "code",
   "execution_count": null,
   "metadata": {},
   "outputs": [],
   "source": [
    "dt = open_eop_datatree(product)\n",
    "dt"
   ]
  },
  {
   "cell_type": "markdown",
   "metadata": {},
   "source": [
    "### Opening gridded measurement data with xarray"
   ]
  },
  {
   "cell_type": "code",
   "execution_count": null,
   "metadata": {},
   "outputs": [],
   "source": [
    "group = \"measurements\"\n",
    "# Open with xarray zarr engine\n",
    "ds=xr.open_dataset(SAMPLE_PATH / product / group, engine=\"zarr\",chunks={})\n",
    "# Open with custom engine=\"eop\"\n",
    "ds=xr.open_dataset(SAMPLE_PATH / product, group=group, engine=\"eop\")\n",
    "aod550 = ds.aod_550\n",
    "aod550"
   ]
  },
  {
   "cell_type": "markdown",
   "metadata": {},
   "source": [
    "Underlying data is dask.array"
   ]
  },
  {
   "cell_type": "code",
   "execution_count": null,
   "metadata": {},
   "outputs": [],
   "source": [
    "aod550.data"
   ]
  },
  {
   "cell_type": "markdown",
   "metadata": {},
   "source": [
    "#### Simple raster plot"
   ]
  },
  {
   "cell_type": "code",
   "execution_count": null,
   "metadata": {},
   "outputs": [],
   "source": [
    "aod550.plot()"
   ]
  },
  {
   "cell_type": "markdown",
   "metadata": {},
   "source": [
    "#### Plot using the coordinates (lon,lat)\n",
    "Note that in SYN AOD product, lat/lon are undefined when the data is missing, which is not correctly handled by matplotlib pcolormesh"
   ]
  },
  {
   "cell_type": "code",
   "execution_count": null,
   "metadata": {},
   "outputs": [],
   "source": [
    "# Remove margins\n",
    "aod550_dropna=aod550.dropna(\"columns\",how=\"all\")\n",
    "aod550_dropna=aod550_dropna.dropna(\"rows\",how=\"all\")\n",
    "\n",
    "# Fill remaining missing values\n",
    "aod550_dropna[\"latitude\"] = ([\"rows\",\"columns\"],aod550_dropna.latitude.bfill(\"columns\").data)\n",
    "aod550_dropna[\"longitude\"] = ([\"rows\",\"columns\"],aod550_dropna.longitude.bfill(\"columns\").data)"
   ]
  },
  {
   "cell_type": "code",
   "execution_count": null,
   "metadata": {},
   "outputs": [],
   "source": [
    "import matplotlib.pyplot as plt\n",
    "plt.figure(figsize=(14, 6))\n",
    "ax = plt.axes()\n",
    "aod550_dropna.plot.pcolormesh(\n",
    "    ax=ax,\n",
    "    x=\"longitude\", y=\"latitude\", add_colorbar=False\n",
    ")"
   ]
  },
  {
   "cell_type": "markdown",
   "metadata": {},
   "source": [
    "#### Open uncertainties"
   ]
  },
  {
   "cell_type": "code",
   "execution_count": null,
   "metadata": {},
   "outputs": [],
   "source": [
    "group = \"quality\"\n",
    "ds=xr.open_dataset(SAMPLE_PATH / product / group, engine=\"zarr\",chunks={})\n",
    "ds"
   ]
  }
 ],
 "metadata": {
  "kernelspec": {
   "display_name": "dpr-1.5.1",
   "language": "python",
   "name": "python3"
  },
  "language_info": {
   "codemirror_mode": {
    "name": "ipython",
    "version": 3
   },
   "file_extension": ".py",
   "mimetype": "text/x-python",
   "name": "python",
   "nbconvert_exporter": "python",
   "pygments_lexer": "ipython3",
   "version": "3.11.8"
  }
 },
 "nbformat": 4,
 "nbformat_minor": 2
}
