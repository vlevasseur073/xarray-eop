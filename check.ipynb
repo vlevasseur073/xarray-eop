{
 "cells": [
  {
   "cell_type": "code",
   "execution_count": null,
   "metadata": {},
   "outputs": [],
   "source": [
    "from pathlib import Path\n",
    "import xarray as xr\n",
    "from eopf import EOProduct\n",
    "from eopf.common.constants import OpeningMode\n"
   ]
  },
  {
   "cell_type": "code",
   "execution_count": null,
   "metadata": {},
   "outputs": [],
   "source": [
    "SAMPLE_PATH = Path(\"/mount/internal/work-st/projects/cs-412/2078-dpr/Samples/Products/Zarr_Beta\")\n",
    "product = SAMPLE_PATH / \"S3OLCEFR_20230506T015316_0180_B117_T740.zarr\"\n",
    "# SAMPLE_PATH = Path(\"/mount/internal/work-st/projects/cs-412/2078-dpr/Samples/Products/Zarr\")\n",
    "# product = SAMPLE_PATH / \"S3OLCEFR_20230506T015316_0180_B117_T688.zarr\""
   ]
  },
  {
   "cell_type": "code",
   "execution_count": null,
   "metadata": {},
   "outputs": [],
   "source": [
    "prod=EOProduct(\"prod\",url=str(SAMPLE_PATH / product)).open(mode=OpeningMode.OPEN)\n",
    "prod"
   ]
  },
  {
   "cell_type": "code",
   "execution_count": null,
   "metadata": {},
   "outputs": [],
   "source": [
    "group = \"measurements/image\"\n",
    "ds=xr.open_dataset(SAMPLE_PATH / product / group, engine=\"zarr\")\n",
    "ds"
   ]
  },
  {
   "cell_type": "code",
   "execution_count": null,
   "metadata": {},
   "outputs": [],
   "source": [
    "group = \"conditions/meteo\"\n",
    "ds=xr.open_dataset(SAMPLE_PATH / product / group, engine=\"zarr\")\n",
    "ds"
   ]
  },
  {
   "cell_type": "code",
   "execution_count": null,
   "metadata": {},
   "outputs": [],
   "source": [
    "group = \"conditions/geometry\"\n",
    "ds=xr.open_dataset(SAMPLE_PATH / product / group, engine=\"zarr\")\n",
    "ds"
   ]
  }
 ],
 "metadata": {
  "kernelspec": {
   "display_name": "dpr-1.5.1",
   "language": "python",
   "name": "python3"
  },
  "language_info": {
   "codemirror_mode": {
    "name": "ipython",
    "version": 3
   },
   "file_extension": ".py",
   "mimetype": "text/x-python",
   "name": "python",
   "nbconvert_exporter": "python",
   "pygments_lexer": "ipython3",
   "version": "3.11.7"
  }
 },
 "nbformat": 4,
 "nbformat_minor": 2
}
