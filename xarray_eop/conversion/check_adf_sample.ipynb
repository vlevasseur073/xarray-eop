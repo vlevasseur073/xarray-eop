{
 "cells": [
  {
   "cell_type": "code",
   "execution_count": null,
   "metadata": {},
   "outputs": [],
   "source": [
    "import xarray as xr\n",
    "import datatree\n"
   ]
  },
  {
   "cell_type": "code",
   "execution_count": null,
   "metadata": {},
   "outputs": [],
   "source": [
    "path=\"/mount/internal/work-st/projects/cs-412/2078-dpr/Samples/Auxiliary/Zarr_new/SY2/S3__ADF_SYCDI_20160216T000000_20991231T235959_20240527T151959.zarr\"\n",
    "dt=datatree.open_datatree(path,engine=\"zarr\")\n",
    "dt"
   ]
  },
  {
   "cell_type": "code",
   "execution_count": null,
   "metadata": {},
   "outputs": [],
   "source": [
    "# plt=dt.band_data[::100,::100].plot(xlim=[-10,10],ylim=[45,70])\n",
    "dt.band_data.sel(x=slice(-10,10),y=slice(70,45)).plot()"
   ]
  },
  {
   "cell_type": "code",
   "execution_count": null,
   "metadata": {},
   "outputs": [],
   "source": [
    "import matplotlib.pyplot as plt\n",
    "plt.figure(figsize=(10, 6))\n",
    "ax = plt.axes()\n",
    "dt.band_data[::100,::100].plot.pcolormesh(\n",
    "    ax=ax,\n",
    "    x=\"x\", y=\"y\", add_colorbar=False\n",
    ")"
   ]
  },
  {
   "cell_type": "code",
   "execution_count": null,
   "metadata": {},
   "outputs": [],
   "source": [
    "ds=xr.open_dataset(\n",
    "    \"/tmp/S3__SY_1_CDIBAX_20000101T000000_20991231T235959_20151214T120000___________________MPC_O_AL_001.SEN3/distMap_0400_geoTIFF.tif\",\n",
    "    chunks={\"x\":4050,\"y\":4050}\n",
    ").squeeze(drop=True)\n",
    "ds.band_data.sel(x=slice(-10,10),y=slice(60,50)).plot()"
   ]
  }
 ],
 "metadata": {
  "kernelspec": {
   "display_name": "test",
   "language": "python",
   "name": "python3"
  },
  "language_info": {
   "codemirror_mode": {
    "name": "ipython",
    "version": 3
   },
   "file_extension": ".py",
   "mimetype": "text/x-python",
   "name": "python",
   "nbconvert_exporter": "python",
   "pygments_lexer": "ipython3",
   "version": "3.11.7"
  }
 },
 "nbformat": 4,
 "nbformat_minor": 2
}
