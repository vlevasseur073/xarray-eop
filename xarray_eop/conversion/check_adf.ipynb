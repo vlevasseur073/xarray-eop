{
 "cells": [
  {
   "cell_type": "code",
   "execution_count": null,
   "metadata": {},
   "outputs": [],
   "source": [
    "from pathlib import Path\n",
    "from xarray_eop.eop import open_eop_datatree"
   ]
  },
  {
   "cell_type": "markdown",
   "metadata": {},
   "source": [
    "### Get AWS credentials"
   ]
  },
  {
   "cell_type": "code",
   "execution_count": null,
   "metadata": {},
   "outputs": [],
   "source": [
    "import s3fs\n",
    "import json\n",
    "# Assuming credentials are in ~/.eopf/secrets.json\n",
    "try:\n",
    "    SECRET_PATH = Path.home() / Path(\".eopf/secrets.json\")\n",
    "    with open(SECRET_PATH) as f:\n",
    "        secrets=json.load(f)\n",
    "\n",
    "# Or use ENV variables\n",
    "except:\n",
    "    import os\n",
    "    secrets = {\"s3input\" : {\n",
    "        \"key\": os.getenv(\"AWS_ACCESS_KEY_ID\"),\n",
    "        \"secret\": os.getenv(\"AWS_SECRET_ACCES_KEY\"),\n",
    "        \"endpoint_url\": os.getenv(\"AWS_ENDPOINT_URL\"),\n",
    "        \"region_name\": os.getenv(\"AWS_DEFAULT_REGION\")\n",
    "        }\n",
    "    }\n",
    "\n",
    "secrets[\"s3input\"].pop(\"region_name\",None)"
   ]
  },
  {
   "cell_type": "markdown",
   "metadata": {},
   "source": [
    "### Browse S3 buckets"
   ]
  },
  {
   "cell_type": "code",
   "execution_count": null,
   "metadata": {},
   "outputs": [],
   "source": [
    "import s3fs\n",
    "ADF_PATH = \"s3://s3-input/Auxiliary/NewFormat/\"\n",
    "s3 = s3fs.S3FileSystem(\n",
    "    key=secrets[\"s3input\"][\"key\"],\n",
    "    secret=secrets[\"s3input\"][\"secret\"],\n",
    "    endpoint_url=secrets[\"s3input\"][\"endpoint_url\"]\n",
    ")\n",
    "# s3_path = s3.glob(ADF_PATH+\"S3A*TIRCD*.zarr.zip\")\n",
    "s3_path = s3.glob(ADF_PATH+\"S3A*OLCAL*.zarr.zip\")\n",
    "store=f\"zip::s3://{s3_path[0]}\"\n",
    "store"
   ]
  },
  {
   "cell_type": "code",
   "execution_count": null,
   "metadata": {},
   "outputs": [],
   "source": [
    "dt = open_eop_datatree(store,backend_kwargs={\"storage_options\": {\"s3\":secrets[\"s3input\"]}},decode_times=False)\n",
    "dt"
   ]
  }
 ],
 "metadata": {
  "kernelspec": {
   "display_name": "test",
   "language": "python",
   "name": "python3"
  },
  "language_info": {
   "codemirror_mode": {
    "name": "ipython",
    "version": 3
   },
   "file_extension": ".py",
   "mimetype": "text/x-python",
   "name": "python",
   "nbconvert_exporter": "python",
   "pygments_lexer": "ipython3",
   "version": "3.11.7"
  }
 },
 "nbformat": 4,
 "nbformat_minor": 2
}
