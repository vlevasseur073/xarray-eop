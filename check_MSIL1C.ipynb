{
 "cells": [
  {
   "cell_type": "markdown",
   "metadata": {},
   "source": [
    "# Tutorial on manipulating MSI L1C product\n"
   ]
  },
  {
   "cell_type": "code",
   "execution_count": null,
   "metadata": {},
   "outputs": [],
   "source": [
    "from pathlib import Path\n",
    "\n",
    "import cartopy.crs as ccrs  # For static plotting\n",
    "import cartopy.feature as cf\n",
    "import datatree as dt\n",
    "import geopandas  # For interactive plotting\n",
    "import numpy as np\n",
    "import matplotlib.patches as mpatches\n",
    "import matplotlib.pyplot as plt\n",
    "import pandas as pd\n",
    "import xarray as xr"
   ]
  },
  {
   "cell_type": "markdown",
   "metadata": {},
   "source": [
    "## Inputs"
   ]
  },
  {
   "cell_type": "markdown",
   "metadata": {},
   "source": [
    "### Get AWS credentials"
   ]
  },
  {
   "cell_type": "code",
   "execution_count": null,
   "metadata": {},
   "outputs": [],
   "source": [
    "import json\n",
    "# Assuming credentials are in ~/.eopf/secrets.json\n",
    "try:\n",
    "    SECRET_PATH = Path.home() / Path(\".eopf/secrets.json\")\n",
    "    with open(SECRET_PATH) as f:\n",
    "        secrets=json.load(f)\n",
    "\n",
    "# Or use ENV variables\n",
    "except:\n",
    "    import os\n",
    "    secrets = {\"s2input\" : {\n",
    "        \"key\": os.getenv(\"AWS_ACCESS_KEY_ID\"),\n",
    "        \"secret\": os.getenv(\"AWS_SECRET_ACCES_KEY\"),\n",
    "        \"endpoint_url\": os.getenv(\"AWS_ENDPOINT_URL\"),\n",
    "        \"region_name\": os.getenv(\"AWS_DEFAULT_REGION\")\n",
    "        }\n",
    "    }\n",
    "\n",
    "secrets[\"s2input\"].pop(\"region_name\",None)\n"
   ]
  },
  {
   "cell_type": "markdown",
   "metadata": {},
   "source": [
    "### Browse S3 bucket and get MSIL1C product"
   ]
  },
  {
   "cell_type": "code",
   "execution_count": null,
   "metadata": {},
   "outputs": [],
   "source": [
    "import s3fs\n",
    "SAMPLE_PATH = \"s3://s2-input/Products/S2MSI--L0plus-L1A-L1B-L1C-L2A/\"\n",
    "s3 = s3fs.S3FileSystem(\n",
    "    key=secrets[\"s2input\"][\"key\"],\n",
    "    secret=secrets[\"s2input\"][\"secret\"],\n",
    "    endpoint_url=secrets[\"s2input\"][\"endpoint_url\"]\n",
    ")\n",
    "s3_path = s3.glob(SAMPLE_PATH+\"S2MSIL1C*.zip\")\n",
    "store=f\"zip::s3://{s3_path[0]}\"\n",
    "store"
   ]
  },
  {
   "cell_type": "markdown",
   "metadata": {},
   "source": [
    "### Open the product\n"
   ]
  },
  {
   "cell_type": "code",
   "execution_count": null,
   "metadata": {},
   "outputs": [],
   "source": [
    "xdt = dt.open_datatree(store, engine=\"zarr\", mode=\"r\", chunks={},backend_kwargs={\"storage_options\": {\"s3\":secrets[\"s2input\"]}})\n",
    "xdt"
   ]
  },
  {
   "cell_type": "markdown",
   "metadata": {},
   "source": [
    "### Overview of the product content"
   ]
  },
  {
   "cell_type": "code",
   "execution_count": null,
   "metadata": {},
   "outputs": [],
   "source": [
    "xdt[\"conditions/detfoo/r60m\"][\"b01\"].plot()"
   ]
  },
  {
   "cell_type": "code",
   "execution_count": null,
   "metadata": {},
   "outputs": [],
   "source": [
    "xdt[\"measurements/r60m\"][\"b01\"].plot()"
   ]
  },
  {
   "cell_type": "code",
   "execution_count": null,
   "metadata": {},
   "outputs": [],
   "source": [
    "xdt[\"measurements/r60m\"][\"b01\"].encoding[\"add_offset\"]"
   ]
  },
  {
   "cell_type": "code",
   "execution_count": null,
   "metadata": {},
   "outputs": [],
   "source": [
    "xdt[\"measurements/r60m\"][\"b01\"].max(), xdt[\"measurements/r60m\"][\"b01\"].min(), xdt[\n",
    "    \"measurements/r60m\"\n",
    "][\"b01\"].mean()"
   ]
  },
  {
   "cell_type": "code",
   "execution_count": null,
   "metadata": {},
   "outputs": [],
   "source": [
    "r = xdt[\"measurements/r10m\"][\"b04\"]\n",
    "g = xdt[\"measurements/r10m\"][\"b03\"]\n",
    "b = xdt[\"measurements/r10m\"][\"b02\"]\n",
    "\n",
    "xr.Dataset(dict(r=r, g=g, b=b))"
   ]
  },
  {
   "cell_type": "code",
   "execution_count": null,
   "metadata": {},
   "outputs": [],
   "source": [
    "b02 = xdt[\"measurements/r10m\"][\"b02\"]\n",
    "b02"
   ]
  },
  {
   "cell_type": "code",
   "execution_count": null,
   "metadata": {},
   "outputs": [],
   "source": [
    "b02.dtype"
   ]
  },
  {
   "cell_type": "code",
   "execution_count": null,
   "metadata": {},
   "outputs": [],
   "source": [
    "b02.encoding"
   ]
  },
  {
   "cell_type": "markdown",
   "metadata": {},
   "source": [
    "## Plot a RGB image"
   ]
  },
  {
   "cell_type": "code",
   "execution_count": null,
   "metadata": {},
   "outputs": [],
   "source": [
    "rgb_band_paths = (\n",
    "            f\"measurements/r10m/b04\",\n",
    "            f\"measurements/r10m/b03\",\n",
    "            f\"measurements/r10m/b02\",\n",
    "        )\n",
    "\n",
    "concat = xr.concat(\n",
    "        [xdt[str(p)] for p in rgb_band_paths],  # type: ignore\n",
    "        dim=\"band\",\n",
    "    )\n",
    "\n",
    "ax = concat.plot.imshow()\n",
    "ax.axes.set_aspect(\"equal\")\n",
    "plt.gca().invert_yaxis()"
   ]
  },
  {
   "cell_type": "markdown",
   "metadata": {},
   "source": [
    "### Explore product geolocation\n",
    "\n",
    "The following snippet shows an interactive map with the tile's footprint\n"
   ]
  },
  {
   "cell_type": "markdown",
   "metadata": {},
   "source": [
    "#### Interactive map"
   ]
  },
  {
   "cell_type": "code",
   "execution_count": null,
   "metadata": {},
   "outputs": [],
   "source": [
    "gdf = geopandas.GeoDataFrame.from_features([xdt.attrs[\"stac_discovery\"]])"
   ]
  },
  {
   "cell_type": "markdown",
   "metadata": {},
   "source": [
    "Note: CRS is missing from the metadata, it must be set manually\n"
   ]
  },
  {
   "cell_type": "code",
   "execution_count": null,
   "metadata": {},
   "outputs": [],
   "source": [
    "gdf = gdf.set_crs(4326)"
   ]
  },
  {
   "cell_type": "code",
   "execution_count": null,
   "metadata": {},
   "outputs": [],
   "source": [
    "gdf.explore()"
   ]
  },
  {
   "cell_type": "code",
   "execution_count": null,
   "metadata": {},
   "outputs": [],
   "source": [
    "gdf.crs"
   ]
  },
  {
   "cell_type": "markdown",
   "metadata": {},
   "source": [
    "#### Non-interactive map\n",
    "\n",
    "The following snippet shows the location of the tile on a global map.\n"
   ]
  },
  {
   "cell_type": "code",
   "execution_count": null,
   "metadata": {},
   "outputs": [],
   "source": [
    "def main():\n",
    "    fig = plt.figure(figsize=(10, 5))\n",
    "    ax = fig.add_subplot(1, 1, 1, projection=ccrs.Robinson())\n",
    "\n",
    "    # make the map global rather than have it zoom in to\n",
    "    # the extents of any plotted data\n",
    "    ax.set_global()\n",
    "\n",
    "    # ax.stock_img()\n",
    "    ax.coastlines()\n",
    "\n",
    "    ax.plot(gdf.centroid[0].x, gdf.centroid[0].y, \"ro\", transform=ccrs.PlateCarree())\n",
    "\n",
    "    plt.show()\n",
    "\n",
    "\n",
    "if __name__ == \"__main__\":\n",
    "    main()"
   ]
  },
  {
   "cell_type": "markdown",
   "metadata": {},
   "source": [
    "#### Plot georeferenced data"
   ]
  },
  {
   "cell_type": "code",
   "execution_count": null,
   "metadata": {},
   "outputs": [],
   "source": [
    "# Define constant for plotting\n",
    "L1C_PROJECTION = ccrs.epsg(32633)\n",
    "DESIRED_PROJECTION = ccrs.PlateCarree()\n",
    "FIGSIZE: tuple[int, int] = (12, 8)\n",
    "RESOLUTION_CARTOPY: str = '110m'\n",
    "GEOGRAPHICAL_LIMITS: tuple[int, int, int, int] = (-20, 30, 10, 30)\n",
    "GEOGRAPHICAL_LIMITS: tuple[int, int, int, int] = (0, 10, 42, 46)\n",
    "\n",
    "# Speed up plot by sampling data every SKIP_EVERY pixels\n",
    "SKIP_EVERY: int = 50\n",
    "\n",
    "# Define plotting arguments for Polygon around the area of interest\n",
    "POLYGON_THICKNESS: int = 1\n",
    "POLYGON_COLOR: str = 'r'\n",
    "\n",
    "# Get the geometry from the product and check that it correspond to the domain represented\n",
    "geometry_from_product = np.squeeze(xdt.attrs[\"stac_discovery\"][\"geometry\"][\"coordinates\"])\n",
    "geometry_from_product"
   ]
  },
  {
   "cell_type": "code",
   "execution_count": null,
   "metadata": {},
   "outputs": [],
   "source": [
    "_, ax = plt.subplots(subplot_kw={\"projection\": DESIRED_PROJECTION},\n",
    "                    figsize=FIGSIZE)\n",
    "\n",
    "# Plot cartopy geographic information\n",
    "ax.coastlines(resolution=RESOLUTION_CARTOPY)\n",
    "ax.add_feature(cf.BORDERS)\n",
    "ax.add_feature(cf.OCEAN)\n",
    "ax.add_feature(cf.LAND)\n",
    "gl = ax.gridlines(draw_labels=True, \n",
    "                  crs=DESIRED_PROJECTION)\n",
    "\n",
    "\n",
    "b02 = xdt[\"measurements/r10m\"][\"b02\"]\n",
    "plt.contourf(b02[::SKIP_EVERY, ::SKIP_EVERY], transform=L1C_PROJECTION)\n",
    "poly = mpatches.Polygon(geometry_from_product, \n",
    "                        closed=True, \n",
    "                        ec=POLYGON_COLOR, \n",
    "                        fill=False, \n",
    "                        lw=POLYGON_THICKNESS, \n",
    "                        transform=DESIRED_PROJECTION)\n",
    "ax.add_patch(poly)\n",
    "ax.set_extent(GEOGRAPHICAL_LIMITS, crs=DESIRED_PROJECTION)\n",
    "cbar = plt.colorbar(orientation=\"horizontal\")\n",
    "cbar.set_label('b02_10m')\n",
    "plt.tight_layout()"
   ]
  },
  {
   "cell_type": "markdown",
   "metadata": {},
   "source": [
    "## Compute radiances"
   ]
  },
  {
   "cell_type": "markdown",
   "metadata": {},
   "source": [
    "From: https://sentinels.copernicus.eu/web/sentinel/user-guides/sentinel-2-msi/product-types/level-1c\n",
    "\n",
    "$radiance = reflectance * \\cos(radians(SunZenithAngle)) * solarIrradiance * U / pi$"
   ]
  },
  {
   "cell_type": "code",
   "execution_count": null,
   "metadata": {},
   "outputs": [],
   "source": [
    "U: float = xdt.attrs[\"other_metadata\"][\"reflectance_correction_factor_from_the_Sun-Earth_distance_variation_computed_using_the_acquisition_date\"]\n",
    "U"
   ]
  },
  {
   "cell_type": "code",
   "execution_count": null,
   "metadata": {},
   "outputs": [],
   "source": [
    "# Be carefull, Sun Zenith Angle is expressed on the angles grid (5km), it needs to be reprojected on the 10m grid for computing radiances\n",
    "# cosinus is applied now because we can not interpolate angles using a linear interpolation (discontinuity at 0°)\n",
    "# On the other hand, cosines can be interpolated\n",
    "# cos_zsa_5km: EOVariable = np.cos(np.deg2rad(xdt[].conditions.geometry.sza))\n",
    "# cos_zsa_5km\n",
    "cos_sza_5km: xr.DataArray = np.cos(np.deg2rad(xdt[\"conditions/sun_ang/zen\"]))\n",
    "cos_sza_5km"
   ]
  },
  {
   "cell_type": "code",
   "execution_count": null,
   "metadata": {},
   "outputs": [],
   "source": [
    "# We will convert reflectances from band BAND to radiances\n",
    "BAND: int = 2\n",
    "\n",
    "# Band - 1 because Python list index starts at 0\n",
    "solarIrradiance: float = np.float64(xdt.attrs[\"stac_discovery\"][\"properties\"][\"eo:bands\"][BAND-1][\"solar_illumination\"])"
   ]
  },
  {
   "cell_type": "code",
   "execution_count": null,
   "metadata": {},
   "outputs": [],
   "source": [
    "reflectance_b02_10m: xr.DataArray = xdt[\"measurements/r10m/b02\"]\n",
    "reflectance_b02_10m"
   ]
  },
  {
   "cell_type": "code",
   "execution_count": null,
   "metadata": {},
   "outputs": [],
   "source": [
    "# Interpolate sza on the angles grid to the 10m grid\n",
    "cos_sza_10m = cos_sza_5km.interp_like(reflectance_b02_10m)\n",
    "cos_sza_10m"
   ]
  },
  {
   "cell_type": "code",
   "execution_count": null,
   "metadata": {},
   "outputs": [],
   "source": [
    "# For simplicity, radiance computation assume that reflectances equal numerical counts\n",
    "radiance = reflectance_b02_10m * cos_sza_10m * solarIrradiance * U / np.pi\n",
    "radiance"
   ]
  },
  {
   "cell_type": "markdown",
   "metadata": {},
   "source": [
    "Visualize computational graph\n",
    "(Needs to have graphviz package)"
   ]
  },
  {
   "cell_type": "code",
   "execution_count": null,
   "metadata": {},
   "outputs": [],
   "source": [
    "radiance.data.visualize()"
   ]
  },
  {
   "cell_type": "code",
   "execution_count": null,
   "metadata": {},
   "outputs": [],
   "source": [
    "radiance.plot()"
   ]
  }
 ],
 "metadata": {
  "kernelspec": {
   "display_name": "eopf-env",
   "language": "python",
   "name": "python3"
  },
  "language_info": {
   "codemirror_mode": {
    "name": "ipython",
    "version": 3
   },
   "file_extension": ".py",
   "mimetype": "text/x-python",
   "name": "python",
   "nbconvert_exporter": "python",
   "pygments_lexer": "ipython3",
   "version": "3.11.7"
  }
 },
 "nbformat": 4,
 "nbformat_minor": 2
}
