{
 "cells": [
  {
   "cell_type": "markdown",
   "metadata": {},
   "source": [
    "# Tutorial on manipulating SLSTR L2 FRP product from the cloud"
   ]
  },
  {
   "cell_type": "code",
   "execution_count": null,
   "metadata": {},
   "outputs": [],
   "source": [
    "import xarray as xr\n",
    "from pathlib import Path\n",
    "from xarray_eop.eop import open_eop_datatree"
   ]
  },
  {
   "cell_type": "markdown",
   "metadata": {},
   "source": [
    "### Get AWS credentials"
   ]
  },
  {
   "cell_type": "code",
   "execution_count": null,
   "metadata": {},
   "outputs": [],
   "source": [
    "import s3fs\n",
    "import json\n",
    "# Assuming credentials are in ~/.eopf/secrets.json\n",
    "try:\n",
    "    SECRET_PATH = Path.home() / Path(\".eopf/secrets.json\")\n",
    "    with open(SECRET_PATH) as f:\n",
    "        secrets=json.load(f)\n",
    "\n",
    "# Or use ENV variables\n",
    "except:\n",
    "    import os\n",
    "    secrets = {\"s3input\" : {\n",
    "        \"key\": os.getenv(\"AWS_ACCESS_KEY_ID\"),\n",
    "        \"secret\": os.getenv(\"AWS_SECRET_ACCES_KEY\"),\n",
    "        \"endpoint_url\": os.getenv(\"AWS_ENDPOINT_URL\"),\n",
    "        \"region_name\": os.getenv(\"AWS_DEFAULT_REGION\")\n",
    "        }\n",
    "    }\n",
    "\n",
    "secrets[\"s3input\"].pop(\"region_name\",None)\n"
   ]
  },
  {
   "cell_type": "markdown",
   "metadata": {},
   "source": [
    "### Browse S3 buckets and get SLSFRP product"
   ]
  },
  {
   "cell_type": "code",
   "execution_count": null,
   "metadata": {},
   "outputs": [],
   "source": [
    "import s3fs\n",
    "SAMPLE_PATH = \"s3://s3-input/Products/NewFormat/\"\n",
    "s3 = s3fs.S3FileSystem(\n",
    "    key=secrets[\"s3input\"][\"key\"],\n",
    "    secret=secrets[\"s3input\"][\"secret\"],\n",
    "    endpoint_url=secrets[\"s3input\"][\"endpoint_url\"]\n",
    ")\n",
    "s3_path = s3.glob(SAMPLE_PATH+\"S03SLSFRP*.zip\")\n",
    "store=f\"zip::s3://{s3_path[0]}\"\n",
    "store"
   ]
  },
  {
   "cell_type": "markdown",
   "metadata": {},
   "source": [
    "### Opening the whole product with datatree"
   ]
  },
  {
   "cell_type": "code",
   "execution_count": null,
   "metadata": {},
   "outputs": [],
   "source": [
    "# Custom open datatree\n",
    "dt = open_eop_datatree(store,backend_kwargs={\"storage_options\": {\"s3\":secrets[\"s3input\"]}})\n",
    "# Standard open datatree\n",
    "# dt = datatree.open_datatree(store,engine=\"zarr\",chunks={},backend_kwargs={\"storage_options\": {\"s3\":secrets[\"s3input\"]}})\n",
    "dt"
   ]
  },
  {
   "cell_type": "markdown",
   "metadata": {},
   "source": [
    "### Opening measurement data (1D) with xarray"
   ]
  },
  {
   "cell_type": "code",
   "execution_count": null,
   "metadata": {},
   "outputs": [],
   "source": [
    "ds=dt.measurements.inadir"
   ]
  },
  {
   "cell_type": "markdown",
   "metadata": {},
   "source": [
    "### Plot Active Fire pixels positions on a PlateCarree grid"
   ]
  },
  {
   "cell_type": "code",
   "execution_count": null,
   "metadata": {},
   "outputs": [],
   "source": [
    "import matplotlib.pyplot as plt\n",
    "import cartopy.crs as ccrs\n",
    "\n",
    "ds.frp_mwir\n",
    "fig = plt.figure()\n",
    "ax = plt.axes(projection=ccrs.PlateCarree())\n",
    "# ax.set_global()\n",
    "ax.coastlines()\n",
    "ax.gridlines(draw_labels=True)\n",
    "# ds.frp_mwir.plot.scatter(x=\"longitude\",y=\"latitude\",transform=ccrs.PlateCarree())\n",
    "plt.scatter(ds.longitude,ds.latitude,c=ds.frp_mwir,vmax=100)\n",
    "plt.colorbar()\n"
   ]
  }
 ],
 "metadata": {
  "kernelspec": {
   "display_name": "dpr-1.5.1",
   "language": "python",
   "name": "python3"
  },
  "language_info": {
   "codemirror_mode": {
    "name": "ipython",
    "version": 3
   },
   "file_extension": ".py",
   "mimetype": "text/x-python",
   "name": "python",
   "nbconvert_exporter": "python",
   "pygments_lexer": "ipython3",
   "version": "3.11.7"
  }
 },
 "nbformat": 4,
 "nbformat_minor": 2
}
