{
 "cells": [
  {
   "cell_type": "markdown",
   "metadata": {},
   "source": [
    "# Tutorial on opening products from s3 bucket"
   ]
  },
  {
   "cell_type": "code",
   "execution_count": null,
   "metadata": {},
   "outputs": [],
   "source": [
    "import json\n",
    "import xarray as xr\n",
    "from pathlib import Path\n",
    "from xarray_eop.eop import open_eop_datatree"
   ]
  },
  {
   "cell_type": "markdown",
   "metadata": {},
   "source": [
    "### Get AWS credentials"
   ]
  },
  {
   "cell_type": "code",
   "execution_count": null,
   "metadata": {},
   "outputs": [],
   "source": [
    "# Assuming credentials are in ~/.eopf/secrets.json\n",
    "try:\n",
    "    SECRET_PATH = Path.home() / Path(\".eopf/secrets.json\")\n",
    "    with open(SECRET_PATH) as f:\n",
    "        secrets=json.load(f)\n",
    "\n",
    "# Or use ENV variables\n",
    "except:\n",
    "    import os\n",
    "    secrets = {\"s3input\" : {\n",
    "        \"key\": os.getenv(\"AWS_ACCESS_KEY_ID\"),\n",
    "        \"secret\": os.getenv(\"AWS_SECRET_ACCES_KEY\"),\n",
    "        \"endpoint_url\": os.getenv(\"AWS_ENDPOINT_URL\"),\n",
    "        \"region_name\": os.getenv(\"AWS_DEFAULT_REGION\")\n",
    "        }\n",
    "    }\n",
    "\n",
    "secrets[\"s3input\"].pop(\"region_name\",None)"
   ]
  },
  {
   "cell_type": "markdown",
   "metadata": {},
   "source": [
    "Setup paths"
   ]
  },
  {
   "cell_type": "code",
   "execution_count": null,
   "metadata": {},
   "outputs": [],
   "source": [
    "product_path = \"s3://s3-input/Products/NewFormat/\"\n",
    "auxiliary_path = \"s3://s3-input/Auxiliary/\"\n",
    "path=auxiliary_path\n",
    "path=product_path"
   ]
  },
  {
   "cell_type": "markdown",
   "metadata": {},
   "source": [
    "### S3FS\n",
    "Browse the s3 bucket"
   ]
  },
  {
   "cell_type": "code",
   "execution_count": null,
   "metadata": {},
   "outputs": [],
   "source": [
    "import s3fs\n",
    "s3 = s3fs.S3FileSystem(key=secrets[\"s3input\"][\"key\"],\n",
    "                       secret=secrets[\"s3input\"][\"secret\"],\n",
    "                       endpoint_url=secrets[\"s3input\"][\"endpoint_url\"])\n",
    "s3.ls(path)"
   ]
  },
  {
   "cell_type": "markdown",
   "metadata": {},
   "source": [
    "### Open unzipped data from S3 bucket"
   ]
  },
  {
   "cell_type": "code",
   "execution_count": null,
   "metadata": {},
   "outputs": [],
   "source": [
    "product=\"meas_ol2.zarr\"\n",
    "#Open dataset with zarr engine\n",
    "# ds=xr.open_dataset(path+product,engine=\"zarr\",backend_kwargs={\"storage_options\":secrets[\"s3input\"]})\n",
    "#Open dataset with custom eop engine\n",
    "ds=xr.open_dataset(path+product,engine=\"eop\",storage_options=secrets[\"s3input\"])\n",
    "ds.gifapar"
   ]
  },
  {
   "cell_type": "markdown",
   "metadata": {},
   "source": [
    "### Open zipped data from S3 bucket\n",
    "\n",
    "without the root folder, no compression\n",
    "The zip archive can be obtained following:\n",
    "```shell\n",
    "$> cd product.zarr\n",
    "$> zip -0 -r product.zarr.zip .\n",
    "``` "
   ]
  },
  {
   "cell_type": "code",
   "execution_count": null,
   "metadata": {},
   "outputs": [],
   "source": [
    "product = path+\"meas_ol2.zip\"\n",
    "# Open xarray dataset with zarr engine\n",
    "ds = xr.open_dataset(f\"zip::{product}\",engine=\"zarr\",backend_kwargs={\"storage_options\": {\"s3\":secrets[\"s3input\"]}})\n",
    "# Custom eop engine needs to be fixed\n",
    "# ds=xr.open_dataset(f\"zip::{product}\",engine=\"eop\",storage_options = {\"s3\":secrets[\"s3input\"]})\n",
    "ds"
   ]
  },
  {
   "cell_type": "markdown",
   "metadata": {},
   "source": [
    "### Open a whole product from zipped S3 bucket"
   ]
  },
  {
   "cell_type": "code",
   "execution_count": null,
   "metadata": {},
   "outputs": [],
   "source": [
    "s3_path = s3.glob(path+\"S3OLCLFR*.zip\")\n",
    "store=f\"zip::s3://{s3_path[0]}\"\n",
    "store"
   ]
  },
  {
   "cell_type": "code",
   "execution_count": null,
   "metadata": {},
   "outputs": [],
   "source": [
    "dt = open_eop_datatree(store,backend_kwargs={\"storage_options\": {\"s3\":secrets[\"s3input\"]}})\n",
    "dt"
   ]
  },
  {
   "cell_type": "markdown",
   "metadata": {},
   "source": [
    "### Old low-level attempts (deprecated)"
   ]
  },
  {
   "cell_type": "code",
   "execution_count": null,
   "metadata": {},
   "outputs": [],
   "source": [
    "import zarr\n",
    "import s3fs\n",
    "import fsspec\n",
    "s3 = s3fs.S3FileSystem(key=\"c0c73ed099f24d13a8f52c6b2efe0e4a\",\n",
    "            secret=\"3513bea6561c4f14bb53240937d8d4e1\",\n",
    "            endpoint_url=\"https://s3.sbg.perf.cloud.ovh.net\",\n",
    "            # region_name=\"sbg\"\n",
    ")\n",
    "f = s3.open(product)\n",
    "fs = fsspec.implementations.zip.ZipFileSystem(f,mode=\"r\")\n",
    "store = fsspec.mapping.FSMap(\"\",fs,check=False)\n",
    "store=zarr.storage.FSStore(url=f\"zip://*.zarr::{product}\",mode=\"r\",s3=secrets[\"s3input\"])\n",
    "store.path\n",
    "zarr.open(store,mode=\"r\")"
   ]
  },
  {
   "cell_type": "code",
   "execution_count": null,
   "metadata": {},
   "outputs": [],
   "source": [
    "import fsspec\n",
    "fs = fsspec.filesystem(\"s3\",key=\"c0c73ed099f24d13a8f52c6b2efe0e4a\",\n",
    "            secret=\"3513bea6561c4f14bb53240937d8d4e1\",\n",
    "            endpoint_url=\"https://s3.sbg.perf.cloud.ovh.net\")\n",
    "            # client_kwargs={\"endpoint_url\":\"https://s3.sbg.perf.cloud.ovh.net\"})\n",
    "fs.glob(product)\n",
    "f\"zip::{product}\"\n",
    "print(product)\n",
    "f=fsspec.open(f\"zip://*.zarr::{product}\",s3=secrets[\"s3input\"])\n",
    "print(f)\n",
    "m=fsspec.get_mapper(f\"zip://*.zarr::{product}\",s3=secrets[\"s3input\"])\n",
    "print(m.fs)\n",
    "zarr.open(store=m.map,mode=\"r\")\n",
    "# ds=xr.open_dataset(m,engine=\"zarr\")"
   ]
  }
 ],
 "metadata": {
  "kernelspec": {
   "display_name": "dpr-1.5.1",
   "language": "python",
   "name": "python3"
  },
  "language_info": {
   "codemirror_mode": {
    "name": "ipython",
    "version": 3
   },
   "file_extension": ".py",
   "mimetype": "text/x-python",
   "name": "python",
   "nbconvert_exporter": "python",
   "pygments_lexer": "ipython3",
   "version": "3.11.7"
  }
 },
 "nbformat": 4,
 "nbformat_minor": 2
}
