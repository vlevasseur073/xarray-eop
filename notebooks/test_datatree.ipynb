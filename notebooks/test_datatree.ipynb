{
 "cells": [
  {
   "cell_type": "code",
   "execution_count": null,
   "metadata": {},
   "outputs": [],
   "source": [
    "from pathlib import Path\n",
    "import xarray as xr\n",
    "import datatree\n",
    "from xarray_eop.sentinel3 import open_safe_datatree\n",
    "from xarray_eop.eop import open_eop_datatree"
   ]
  },
  {
   "cell_type": "code",
   "execution_count": null,
   "metadata": {},
   "outputs": [],
   "source": [
    "SAMPLE_PATH = Path(\"/mount/internal/work-st/projects/cs-412/2078-dpr/Samples/Products/SAFE\")\n",
    "product = SAMPLE_PATH / \"S3B_OL_1_EFR____20230506T015316_20230506T015616_20230711T065802_0180_079_117______LR1_D_NR_003.SEN3\""
   ]
  },
  {
   "cell_type": "code",
   "execution_count": null,
   "metadata": {},
   "outputs": [],
   "source": [
    "dt = open_safe_datatree(\"prod\",product,simplified_mapping=False)\n",
    "dt"
   ]
  },
  {
   "cell_type": "code",
   "execution_count": null,
   "metadata": {},
   "outputs": [],
   "source": [
    "SAMPLE_PATH = Path(\"/mount/internal/work-st/projects/cs-412/2078-dpr/Samples/Products/Zarr_Beta\")\n",
    "product = SAMPLE_PATH / \"S3OLCEFR_20230506T015316_0180_B117_T931.zarr\""
   ]
  },
  {
   "cell_type": "code",
   "execution_count": null,
   "metadata": {},
   "outputs": [],
   "source": [
    "group = \"measurements/image\"\n",
    "ds = xr.open_dataset(product, group=group, engine=\"eop\")\n",
    "ds"
   ]
  },
  {
   "cell_type": "code",
   "execution_count": null,
   "metadata": {},
   "outputs": [],
   "source": [
    "# dt = datatree.open_datatree(product,engine=\"zarr\")\n",
    "dt = open_eop_datatree(product)\n",
    "dt"
   ]
  },
  {
   "cell_type": "code",
   "execution_count": null,
   "metadata": {},
   "outputs": [],
   "source": [
    "dt[\"/measurements/image\"].ds.oa01_radiance.plot()"
   ]
  }
 ],
 "metadata": {
  "kernelspec": {
   "display_name": "dpr-1.5.1",
   "language": "python",
   "name": "python3"
  },
  "language_info": {
   "codemirror_mode": {
    "name": "ipython",
    "version": 3
   },
   "file_extension": ".py",
   "mimetype": "text/x-python",
   "name": "python",
   "nbconvert_exporter": "python",
   "pygments_lexer": "ipython3",
   "version": "3.11.7"
  }
 },
 "nbformat": 4,
 "nbformat_minor": 2
}
