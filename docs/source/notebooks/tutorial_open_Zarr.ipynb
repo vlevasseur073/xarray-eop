{
 "cells": [
  {
   "cell_type": "markdown",
   "metadata": {},
   "source": [
    "# Open a EOPF Zarr product"
   ]
  },
  {
   "cell_type": "code",
   "execution_count": null,
   "metadata": {},
   "outputs": [],
   "source": [
    "import xarray as xr\n",
    "\n",
    "from xarray_eop.api import open_datatree\n",
    "from xarray_eop.path import EOPath"
   ]
  },
  {
   "cell_type": "markdown",
   "metadata": {},
   "source": [
    "## Product stored in the filesystem "
   ]
  },
  {
   "cell_type": "code",
   "execution_count": null,
   "metadata": {},
   "outputs": [],
   "source": [
    "import importlib.resources\n",
    "SAMPLE_PATH = importlib.resources.files(\"tests.ut.data\")\n",
    "product = SAMPLE_PATH / \"sample.zarr\""
   ]
  },
  {
   "cell_type": "markdown",
   "metadata": {},
   "source": [
    "One can access the whole product using datatree"
   ]
  },
  {
   "cell_type": "code",
   "execution_count": null,
   "metadata": {},
   "outputs": [],
   "source": [
    "dt = open_datatree(product)\n",
    "dt"
   ]
  },
  {
   "cell_type": "code",
   "execution_count": null,
   "metadata": {},
   "outputs": [],
   "source": [
    "product = SAMPLE_PATH / \"sample.zip\"\n",
    "dt = open_datatree(\"zip::\"+str(product),engine=\"zarr\")\n",
    "dt"
   ]
  },
  {
   "cell_type": "markdown",
   "metadata": {},
   "source": [
    "or a specific group by opening a xarray dataset\n"
   ]
  },
  {
   "cell_type": "code",
   "execution_count": null,
   "metadata": {},
   "outputs": [],
   "source": [
    "product = SAMPLE_PATH / \"sample.zarr\"\n",
    "group = \"measurements/fine\"\n",
    "# Open with xarray zarr engine\n",
    "ds=xr.open_dataset(SAMPLE_PATH / product / group, engine=\"zarr\",chunks={})\n",
    "# Open with custom engine=\"eop\"\n",
    "ds=xr.open_dataset(SAMPLE_PATH / product, group=group, engine=\"eop\")\n",
    "ds"
   ]
  },
  {
   "cell_type": "markdown",
   "metadata": {},
   "source": [
    "## Product stored in S3 bucket\n",
    "Products store in S3 object-storage can also be accessed.\n",
    "\n",
    "> **Note:**  The credentials are tried to be retrieved automatically looking for AWS or S3 environment variables.\n",
    "It can alsso be explicitely passed to the function using the addition kwargs *backend_kwargs*, whose value is a \n",
    "dictionary in the form {\"s3\":{\"key\": *access-key*,\"secret\": *secret-key*,\"endpoint_url\": *endpoint_url*}}. \n",
    "\n",
    "xarray-eop provide an EOPath classe derived from pathlib.Path which supports S3 paths and well as fsspec-like URL chain.\n",
    "\n",
    "For instance:"
   ]
  },
  {
   "cell_type": "code",
   "execution_count": null,
   "metadata": {},
   "outputs": [],
   "source": [
    "buc_name = EOPath(\"zip::s3://buc-acaw-dpr\")\n",
    "product = buc_name / \"Samples/Zarr/S03OLCEFR_20230506T015316_0180_B117_T229.zarr.zip\"\n",
    "dt = open_datatree(product)\n",
    "dt"
   ]
  }
 ],
 "metadata": {
  "kernelspec": {
   "display_name": "test",
   "language": "python",
   "name": "python3"
  },
  "language_info": {
   "codemirror_mode": {
    "name": "ipython",
    "version": 3
   },
   "file_extension": ".py",
   "mimetype": "text/x-python",
   "name": "python",
   "nbconvert_exporter": "python",
   "pygments_lexer": "ipython3",
   "version": "3.11.8"
  }
 },
 "nbformat": 4,
 "nbformat_minor": 2
}
