{
 "cells": [
  {
   "cell_type": "markdown",
   "metadata": {},
   "source": [
    "# Use of the verification tool"
   ]
  },
  {
   "cell_type": "markdown",
   "metadata": {},
   "source": [
    "## Interactive mode\n",
    "The `compare` tool can be run in CLI mode by invoking for instance\n",
    "```bash\n",
    "$> compare --reference [ref-product-path] --new [new-product-path] --relative --threshold 2.e-5 \n",
    "```\n",
    "\n",
    "To display the available options, use:\n",
    "```bash\n",
    "$> compare --help\n",
    "```\n"
   ]
  },
  {
   "cell_type": "markdown",
   "metadata": {},
   "source": [
    "## Script mode\n",
    "A callable python function also exists to be used in your scripts"
   ]
  },
  {
   "cell_type": "code",
   "execution_count": null,
   "metadata": {},
   "outputs": [],
   "source": [
    "from xarray_eop import EOPath\n",
    "from xarray_eop.verification.compare import call_compare\n",
    "\n",
    "internal_path = EOPath(\n",
    "        \"s3://buc-acaw-dpr/Samples/SAFE/\"\n",
    "    )\n",
    "ref = (\n",
    "    internal_path\n",
    "    / \"S3A_OL_1_ERR____20191227T124211_20191227T124311_20230616T083918_0059_053_109______LR1_D_NT_003.SEN3\"\n",
    ")\n",
    "new = (\n",
    "    internal_path\n",
    "    / \"S3A_OL_1_ERR____20191227T124211_20191227T124311_20240405T144909_0059_053_109______LR1_D_NT_003.SEN3\"\n",
    ")\n",
    "\n",
    "call_compare(ref,new,verbose=False,relative=True,threshold=2.e-5)"
   ]
  },
  {
   "cell_type": "code",
   "execution_count": null,
   "metadata": {},
   "outputs": [],
   "source": [
    "call_compare(ref,new,verbose=False,threshold=2.e-5)"
   ]
  }
 ],
 "metadata": {
  "kernelspec": {
   "display_name": "xarray-eop",
   "language": "python",
   "name": "python3"
  },
  "language_info": {
   "codemirror_mode": {
    "name": "ipython",
    "version": 3
   },
   "file_extension": ".py",
   "mimetype": "text/x-python",
   "name": "python",
   "nbconvert_exporter": "python",
   "pygments_lexer": "ipython3",
   "version": "3.11.8"
  }
 },
 "nbformat": 4,
 "nbformat_minor": 2
}
