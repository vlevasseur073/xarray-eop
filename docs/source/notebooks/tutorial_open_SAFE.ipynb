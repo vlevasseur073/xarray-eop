{
 "cells": [
  {
   "cell_type": "markdown",
   "metadata": {},
   "source": [
    "# Open a SAFE product"
   ]
  },
  {
   "cell_type": "code",
   "execution_count": null,
   "metadata": {},
   "outputs": [],
   "source": [
    "import xarray as xr\n",
    "\n",
    "from xarray_eop.api import open_datatree\n",
    "from xarray_eop.path import EOPath"
   ]
  },
  {
   "cell_type": "markdown",
   "metadata": {},
   "source": [
    "## Open a specific part of the product as a dataset\n",
    "The specific part may be determined by a given netcdf file from the SAFE or a given group corresponding to the EOPF zarr-like format.\n",
    "\n",
    "### Product stored in the local filesystem:"
   ]
  },
  {
   "cell_type": "code",
   "execution_count": null,
   "metadata": {},
   "outputs": [],
   "source": [
    "import importlib.resources\n",
    "SAMPLE_PATH = importlib.resources.files(\"tests.ut.data\")\n",
    "product = SAMPLE_PATH / \"S3B_OL_1_ERR_sample.SEN3\""
   ]
  },
  {
   "cell_type": "markdown",
   "metadata": {},
   "source": [
    "One can access the data by specifying a group corresponding to the EOPF zarr-like format:"
   ]
  },
  {
   "cell_type": "code",
   "execution_count": null,
   "metadata": {},
   "outputs": [],
   "source": [
    "group=\"/conditions/instrument\"\n",
    "ds = xr.open_dataset(product,file_or_group=group,engine=\"sentinel-3\")\n",
    "ds"
   ]
  },
  {
   "cell_type": "markdown",
   "metadata": {},
   "source": [
    "or by opening a whole netcdf file\n"
   ]
  },
  {
   "cell_type": "code",
   "execution_count": null,
   "metadata": {},
   "outputs": [],
   "source": [
    "file=\"instrument_data.nc\"\n",
    "ds = xr.open_dataset(product,file_or_group=file,engine=\"sentinel-3\")\n",
    "ds"
   ]
  },
  {
   "cell_type": "markdown",
   "metadata": {},
   "source": [
    "### Product stored in S3 bucket"
   ]
  },
  {
   "cell_type": "markdown",
   "metadata": {},
   "source": [
    "It is also possible to access a product in a cloud storage. S3 cloud storage is currently the only handled object-storage.\n",
    "\n",
    "xarray-eop provide an EOPath classe derived from pathlib.Path which supports S3 paths and well as fsspec-like URL chain."
   ]
  },
  {
   "cell_type": "code",
   "execution_count": null,
   "metadata": {},
   "outputs": [],
   "source": [
    "buc_name = EOPath(\"s3://buc-acaw-dpr\")\n",
    "product = buc_name / \"Samples/SAFE/S3B_OL_1_ERR____20230506T015316_20230506T015616_20230711T065804_0179_079_117______LR1_D_NR_003.SEN3\"\n",
    "ds = xr.open_dataset(\n",
    "    product,\n",
    "    file_or_group=\"instrument_data.nc\",\n",
    "    engine=\"sentinel-3\",\n",
    ")\n",
    "ds"
   ]
  },
  {
   "cell_type": "markdown",
   "metadata": {},
   "source": [
    "## Open the whole SAFE product as a datatree structure"
   ]
  },
  {
   "cell_type": "code",
   "execution_count": null,
   "metadata": {},
   "outputs": [],
   "source": [
    "dt = open_datatree(product)\n",
    "dt"
   ]
  },
  {
   "cell_type": "markdown",
   "metadata": {},
   "source": [
    "In the case of the Sentinel-3 product, data is a collection of netcdf files. To allow lazy loading, each variable is first computed and then rechunk.\n",
    "To speed up the process, it is possible to make a temporary copy of the product in the local filesystem, by setting the optional argument fs_copy to True"
   ]
  },
  {
   "cell_type": "code",
   "execution_count": null,
   "metadata": {},
   "outputs": [],
   "source": [
    "dt = open_datatree(product,fs_copy=True)\n",
    "dt"
   ]
  },
  {
   "cell_type": "code",
   "execution_count": null,
   "metadata": {},
   "outputs": [],
   "source": [
    "dt.measurements.oa17_radiance.plot()"
   ]
  },
  {
   "cell_type": "code",
   "execution_count": null,
   "metadata": {},
   "outputs": [],
   "source": [
    "import matplotlib.pyplot as plt\n",
    "plt.figure(figsize=(14, 6))\n",
    "ax = plt.axes()\n",
    "dt.measurements.oa17_radiance.plot.pcolormesh(\n",
    "    ax=ax,\n",
    "    x=\"longitude\", y=\"latitude\", add_colorbar=False\n",
    ")"
   ]
  }
 ],
 "metadata": {
  "kernelspec": {
   "display_name": "test",
   "language": "python",
   "name": "python3"
  },
  "language_info": {
   "codemirror_mode": {
    "name": "ipython",
    "version": 3
   },
   "file_extension": ".py",
   "mimetype": "text/x-python",
   "name": "python",
   "nbconvert_exporter": "python",
   "pygments_lexer": "ipython3",
   "version": "3.11.8"
  }
 },
 "nbformat": 4,
 "nbformat_minor": 2
}
